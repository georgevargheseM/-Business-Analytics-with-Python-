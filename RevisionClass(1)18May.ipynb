{
 "cells": [
  {
   "cell_type": "code",
   "execution_count": 1,
   "id": "503aba16",
   "metadata": {},
   "outputs": [],
   "source": [
    "x=10 #x is the identifier, x=10 is a variable assignment"
   ]
  },
  {
   "cell_type": "code",
   "execution_count": 2,
   "id": "a971a3e3",
   "metadata": {},
   "outputs": [
    {
     "name": "stdout",
     "output_type": "stream",
     "text": [
      "10\n"
     ]
    }
   ],
   "source": [
    "print(x)"
   ]
  },
  {
   "cell_type": "code",
   "execution_count": 3,
   "id": "a03dbdd5",
   "metadata": {},
   "outputs": [
    {
     "data": {
      "text/plain": [
       "int"
      ]
     },
     "execution_count": 3,
     "metadata": {},
     "output_type": "execute_result"
    }
   ],
   "source": [
    "type(x)"
   ]
  },
  {
   "cell_type": "code",
   "execution_count": 4,
   "id": "7677cdef",
   "metadata": {},
   "outputs": [],
   "source": [
    "x=10\n",
    "y=20.5\n",
    "z=\"Hello\""
   ]
  },
  {
   "cell_type": "code",
   "execution_count": 5,
   "id": "ecbd4001",
   "metadata": {},
   "outputs": [
    {
     "data": {
      "text/plain": [
       "int"
      ]
     },
     "execution_count": 5,
     "metadata": {},
     "output_type": "execute_result"
    }
   ],
   "source": [
    "type(x)"
   ]
  },
  {
   "cell_type": "code",
   "execution_count": 6,
   "id": "ce7ebf90",
   "metadata": {},
   "outputs": [
    {
     "data": {
      "text/plain": [
       "float"
      ]
     },
     "execution_count": 6,
     "metadata": {},
     "output_type": "execute_result"
    }
   ],
   "source": [
    "type(y)"
   ]
  },
  {
   "cell_type": "code",
   "execution_count": 7,
   "id": "865a705c",
   "metadata": {},
   "outputs": [
    {
     "data": {
      "text/plain": [
       "str"
      ]
     },
     "execution_count": 7,
     "metadata": {},
     "output_type": "execute_result"
    }
   ],
   "source": [
    "type(z)"
   ]
  },
  {
   "cell_type": "code",
   "execution_count": 8,
   "id": "47fe68e2",
   "metadata": {},
   "outputs": [],
   "source": [
    "x=10\n",
    "y=20\n"
   ]
  },
  {
   "cell_type": "code",
   "execution_count": 9,
   "id": "31c1d851",
   "metadata": {},
   "outputs": [
    {
     "data": {
      "text/plain": [
       "30"
      ]
     },
     "execution_count": 9,
     "metadata": {},
     "output_type": "execute_result"
    }
   ],
   "source": [
    "x+y"
   ]
  },
  {
   "cell_type": "code",
   "execution_count": 10,
   "id": "c446a870",
   "metadata": {},
   "outputs": [
    {
     "name": "stdout",
     "output_type": "stream",
     "text": [
      "30\n"
     ]
    }
   ],
   "source": [
    "x=10\n",
    "y=20\n",
    "a=x+y\n",
    "print(a)"
   ]
  },
  {
   "cell_type": "code",
   "execution_count": 11,
   "id": "d6c742aa",
   "metadata": {},
   "outputs": [
    {
     "name": "stdout",
     "output_type": "stream",
     "text": [
      "indiakerala\n"
     ]
    }
   ],
   "source": [
    "x=\"india\"\n",
    "y=\"kerala\"\n",
    "z=x+y\n",
    "print(z)"
   ]
  },
  {
   "cell_type": "code",
   "execution_count": 12,
   "id": "601ae4ab",
   "metadata": {},
   "outputs": [
    {
     "data": {
      "text/plain": [
       "50"
      ]
     },
     "execution_count": 12,
     "metadata": {},
     "output_type": "execute_result"
    }
   ],
   "source": [
    "x=20\n",
    "y=30\n",
    "x+y"
   ]
  },
  {
   "cell_type": "code",
   "execution_count": 13,
   "id": "1021d0b7",
   "metadata": {},
   "outputs": [
    {
     "data": {
      "text/plain": [
       "'2030'"
      ]
     },
     "execution_count": 13,
     "metadata": {},
     "output_type": "execute_result"
    }
   ],
   "source": [
    "x=\"20\"\n",
    "y=\"30\"\n",
    "x+y"
   ]
  },
  {
   "cell_type": "code",
   "execution_count": 14,
   "id": "f926d04a",
   "metadata": {},
   "outputs": [
    {
     "name": "stdout",
     "output_type": "stream",
     "text": [
      "Enter a Value3050\n"
     ]
    }
   ],
   "source": [
    "x=input(\"Enter a Value\")"
   ]
  },
  {
   "cell_type": "code",
   "execution_count": 15,
   "id": "de43425a",
   "metadata": {},
   "outputs": [
    {
     "name": "stdout",
     "output_type": "stream",
     "text": [
      "Enter First Number50\n",
      "Enter Second Number60\n",
      "5060\n"
     ]
    }
   ],
   "source": [
    "x=input('Enter First Number')\n",
    "y=input('Enter Second Number')\n",
    "z=x+y\n",
    "print(z) # this is what happenswhen you dont enter int(inpput())\n"
   ]
  },
  {
   "cell_type": "code",
   "execution_count": 16,
   "id": "808befb5",
   "metadata": {},
   "outputs": [
    {
     "name": "stdout",
     "output_type": "stream",
     "text": [
      "Enter First Number50\n",
      "Enter Second Number100\n",
      "150\n"
     ]
    }
   ],
   "source": [
    "x=int(input('Enter First Number'))\n",
    "y=int(input('Enter Second Number'))\n",
    "z=x+y\n",
    "print(z)"
   ]
  },
  {
   "cell_type": "code",
   "execution_count": 17,
   "id": "efef7eee",
   "metadata": {},
   "outputs": [
    {
     "name": "stdout",
     "output_type": "stream",
     "text": [
      "Enter First Number150\n",
      "Enter Second Number50\n",
      "Enter the OperationsAdd\n",
      "200\n"
     ]
    }
   ],
   "source": [
    "x=int(input('Enter First Number'))\n",
    "y=int(input('Enter Second Number'))\n",
    "a=input('Enter the Operations')\n",
    "\n",
    "if a==\"Add\":\n",
    "    z=x+y\n",
    "    print(z)\n",
    "if a==\"Subtraction\":\n",
    "    z=x-y\n",
    "    print(z)\n",
    "if a==\"Multiplication\":\n",
    "    z=x*y\n",
    "    print(z)\n",
    "if a==\"Divide\":\n",
    "    z=x/y\n",
    "    print(z)"
   ]
  },
  {
   "cell_type": "code",
   "execution_count": 18,
   "id": "5cf61bc5",
   "metadata": {},
   "outputs": [
    {
     "name": "stdout",
     "output_type": "stream",
     "text": [
      "Enter your marks700000\n",
      "You are Passed\n"
     ]
    }
   ],
   "source": [
    "marks = int(input(\"Enter your marks\"))\n",
    "if marks > 50:\n",
    "    print (\"You are Passed\")\n",
    "if marks < 50:\n",
    "    print (\"You are Failed\")"
   ]
  },
  {
   "cell_type": "code",
   "execution_count": 19,
   "id": "f59c9a8b",
   "metadata": {},
   "outputs": [
    {
     "name": "stdout",
     "output_type": "stream",
     "text": [
      "Enter your Salary200000\n",
      "You are Taxable\n"
     ]
    }
   ],
   "source": [
    "salary = int(input(\"Enter your Salary\"))\n",
    "if salary > 250000:\n",
    "    print(\"You are not Taxable\")\n",
    "if salary < 250000:\n",
    "    print(\"You are Taxable\")"
   ]
  },
  {
   "cell_type": "code",
   "execution_count": 20,
   "id": "7c6dfa8e",
   "metadata": {},
   "outputs": [
    {
     "name": "stdout",
     "output_type": "stream",
     "text": [
      "Enter your Salary500000\n",
      "25000.0 You are Taxable\n"
     ]
    }
   ],
   "source": [
    "salary = int(input(\"Enter your Salary\"))\n",
    "if salary > 250000: \n",
    "    z=(salary-250000)*10/100\n",
    "    print(z,\"You are Taxable\")\n",
    "    \n",
    "if salary < 250000:\n",
    "    print(\"You are not Taxable\")"
   ]
  },
  {
   "cell_type": "code",
   "execution_count": 25,
   "id": "d2f09fb3",
   "metadata": {},
   "outputs": [
    {
     "name": "stdout",
     "output_type": "stream",
     "text": [
      "Enter your Salary450000\n",
      "20000.0 You are Taxable\n"
     ]
    }
   ],
   "source": [
    "salary = int(input(\"Enter your Salary\"))\n",
    "\n",
    "\n",
    "if salary > 250000 and salary < 500000: \n",
    "    z=(salary-250000)*10/100\n",
    "    print(z,\"You are Taxable\")\n",
    "    \n",
    "if salary < 250000:\n",
    "    print(\"You are not Taxable\")"
   ]
  },
  {
   "cell_type": "code",
   "execution_count": 26,
   "id": "3f486ea7",
   "metadata": {},
   "outputs": [
    {
     "name": "stdout",
     "output_type": "stream",
     "text": [
      "0\n",
      "1\n",
      "2\n",
      "3\n",
      "4\n",
      "5\n",
      "6\n",
      "7\n",
      "8\n",
      "9\n",
      "10\n",
      "11\n",
      "12\n",
      "13\n",
      "14\n",
      "15\n",
      "16\n",
      "17\n",
      "18\n",
      "19\n",
      "20\n",
      "21\n",
      "22\n",
      "23\n",
      "24\n",
      "25\n",
      "26\n",
      "27\n",
      "28\n",
      "29\n",
      "30\n",
      "31\n",
      "32\n",
      "33\n",
      "34\n",
      "35\n",
      "36\n",
      "37\n",
      "38\n",
      "39\n",
      "40\n",
      "41\n",
      "42\n",
      "43\n",
      "44\n",
      "45\n",
      "46\n",
      "47\n",
      "48\n",
      "49\n",
      "50\n",
      "51\n",
      "52\n",
      "53\n",
      "54\n",
      "55\n",
      "56\n",
      "57\n",
      "58\n",
      "59\n",
      "60\n",
      "61\n",
      "62\n",
      "63\n",
      "64\n",
      "65\n",
      "66\n",
      "67\n",
      "68\n",
      "69\n",
      "70\n",
      "71\n",
      "72\n",
      "73\n",
      "74\n",
      "75\n",
      "76\n",
      "77\n",
      "78\n",
      "79\n",
      "80\n",
      "81\n",
      "82\n",
      "83\n",
      "84\n",
      "85\n",
      "86\n",
      "87\n",
      "88\n",
      "89\n",
      "90\n",
      "91\n",
      "92\n",
      "93\n",
      "94\n",
      "95\n",
      "96\n",
      "97\n",
      "98\n",
      "99\n"
     ]
    }
   ],
   "source": [
    "x=0\n",
    "while x<100:\n",
    "    print(x)\n",
    "    x=x+1"
   ]
  },
  {
   "cell_type": "code",
   "execution_count": 29,
   "id": "98b77ae4",
   "metadata": {},
   "outputs": [
    {
     "name": "stdout",
     "output_type": "stream",
     "text": [
      "0\n",
      "1\n",
      "3\n",
      "6\n",
      "10\n",
      "15\n",
      "21\n",
      "28\n",
      "36\n",
      "45\n",
      "55\n",
      "66\n",
      "78\n",
      "91\n",
      "105\n",
      "120\n",
      "136\n",
      "153\n",
      "171\n",
      "190\n",
      "210\n",
      "231\n",
      "253\n",
      "276\n",
      "300\n",
      "325\n",
      "351\n",
      "378\n",
      "406\n",
      "435\n",
      "465\n",
      "496\n",
      "528\n",
      "561\n",
      "595\n",
      "630\n",
      "666\n",
      "703\n",
      "741\n",
      "780\n",
      "820\n",
      "861\n",
      "903\n",
      "946\n",
      "990\n",
      "1035\n",
      "1081\n",
      "1128\n",
      "1176\n",
      "1225\n",
      "1275\n",
      "1326\n",
      "1378\n",
      "1431\n",
      "1485\n",
      "1540\n",
      "1596\n",
      "1653\n",
      "1711\n",
      "1770\n",
      "1830\n",
      "1891\n",
      "1953\n",
      "2016\n",
      "2080\n",
      "2145\n",
      "2211\n",
      "2278\n",
      "2346\n",
      "2415\n",
      "2485\n",
      "2556\n",
      "2628\n",
      "2701\n",
      "2775\n",
      "2850\n",
      "2926\n",
      "3003\n",
      "3081\n",
      "3160\n",
      "3240\n",
      "3321\n",
      "3403\n",
      "3486\n",
      "3570\n",
      "3655\n",
      "3741\n",
      "3828\n",
      "3916\n",
      "4005\n",
      "4095\n",
      "4186\n",
      "4278\n",
      "4371\n",
      "4465\n",
      "4560\n",
      "4656\n",
      "4753\n",
      "4851\n",
      "4950\n"
     ]
    }
   ],
   "source": [
    "#write a programm to get the sum of till first 100 numbers?\n",
    "\n",
    "x=0\n",
    "paper=0\n",
    "while x<100:\n",
    "    paper=x+paper\n",
    "    x=x+1\n",
    "    print(paper)\n",
    "# this is while looop"
   ]
  },
  {
   "cell_type": "code",
   "execution_count": null,
   "id": "36229cd0",
   "metadata": {},
   "outputs": [],
   "source": []
  }
 ],
 "metadata": {
  "kernelspec": {
   "display_name": "Python 3",
   "language": "python",
   "name": "python3"
  },
  "language_info": {
   "codemirror_mode": {
    "name": "ipython",
    "version": 3
   },
   "file_extension": ".py",
   "mimetype": "text/x-python",
   "name": "python",
   "nbconvert_exporter": "python",
   "pygments_lexer": "ipython3",
   "version": "3.8.8"
  }
 },
 "nbformat": 4,
 "nbformat_minor": 5
}
