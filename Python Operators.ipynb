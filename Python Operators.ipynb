{
 "cells": [
  {
   "cell_type": "markdown",
   "id": "5c884b84",
   "metadata": {},
   "source": [
    "## Performing Arithmetic Operations using Python"
   ]
  },
  {
   "cell_type": "code",
   "execution_count": 1,
   "id": "b05fb76d",
   "metadata": {},
   "outputs": [
    {
     "data": {
      "text/plain": [
       "14"
      ]
     },
     "execution_count": 1,
     "metadata": {},
     "output_type": "execute_result"
    }
   ],
   "source": [
    "2+3+9"
   ]
  },
  {
   "cell_type": "code",
   "execution_count": 2,
   "id": "87f906e7",
   "metadata": {},
   "outputs": [
    {
     "data": {
      "text/plain": [
       "26"
      ]
     },
     "execution_count": 2,
     "metadata": {},
     "output_type": "execute_result"
    }
   ],
   "source": [
    "99 - 73"
   ]
  },
  {
   "cell_type": "code",
   "execution_count": 3,
   "id": "ef266dd3",
   "metadata": {},
   "outputs": [
    {
     "data": {
      "text/plain": [
       "-33709.28"
      ]
     },
     "execution_count": 3,
     "metadata": {},
     "output_type": "execute_result"
    }
   ],
   "source": [
    "23.54 * -1432"
   ]
  },
  {
   "cell_type": "code",
   "execution_count": 4,
   "id": "9f23d107",
   "metadata": {},
   "outputs": [
    {
     "data": {
      "text/plain": [
       "-2330.46"
      ]
     },
     "execution_count": 4,
     "metadata": {},
     "output_type": "execute_result"
    }
   ],
   "source": [
    "23.54*-99"
   ]
  },
  {
   "cell_type": "code",
   "execution_count": 5,
   "id": "aa170bf3",
   "metadata": {},
   "outputs": [
    {
     "data": {
      "text/plain": [
       "14.285714285714286"
      ]
     },
     "execution_count": 5,
     "metadata": {},
     "output_type": "execute_result"
    }
   ],
   "source": [
    "100 / 7"
   ]
  },
  {
   "cell_type": "code",
   "execution_count": 6,
   "id": "934fcd9c",
   "metadata": {},
   "outputs": [
    {
     "data": {
      "text/plain": [
       "14"
      ]
     },
     "execution_count": 6,
     "metadata": {},
     "output_type": "execute_result"
    }
   ],
   "source": [
    "100//7 # Floor Division:- this can be used to get the quotient without the decimal part"
   ]
  },
  {
   "cell_type": "code",
   "execution_count": 7,
   "id": "a0b2be50",
   "metadata": {},
   "outputs": [
    {
     "data": {
      "text/plain": [
       "2"
      ]
     },
     "execution_count": 7,
     "metadata": {},
     "output_type": "execute_result"
    }
   ],
   "source": [
    "100 % 7 # Modulus/Remainder:- this is to get the remainder"
   ]
  },
  {
   "cell_type": "code",
   "execution_count": 8,
   "id": "791910d2",
   "metadata": {},
   "outputs": [
    {
     "data": {
      "text/plain": [
       "100"
      ]
     },
     "execution_count": 8,
     "metadata": {},
     "output_type": "execute_result"
    }
   ],
   "source": [
    "2+14*7"
   ]
  },
  {
   "cell_type": "code",
   "execution_count": 9,
   "id": "19f0df35",
   "metadata": {},
   "outputs": [
    {
     "data": {
      "text/plain": [
       "125"
      ]
     },
     "execution_count": 9,
     "metadata": {},
     "output_type": "execute_result"
    }
   ],
   "source": [
    "5 ** 3 # Exponent:- 5 to the power 3(5^3)"
   ]
  },
  {
   "cell_type": "code",
   "execution_count": 10,
   "id": "51935e1b",
   "metadata": {},
   "outputs": [
    {
     "data": {
      "text/plain": [
       "3125"
      ]
     },
     "execution_count": 10,
     "metadata": {},
     "output_type": "execute_result"
    }
   ],
   "source": [
    "5**5"
   ]
  },
  {
   "cell_type": "code",
   "execution_count": 11,
   "id": "67953cd3",
   "metadata": {},
   "outputs": [
    {
     "data": {
      "text/plain": [
       "1.53125"
      ]
     },
     "execution_count": 11,
     "metadata": {},
     "output_type": "execute_result"
    }
   ],
   "source": [
    "((2+5)*(17-3)/(4**3))"
   ]
  },
  {
   "cell_type": "markdown",
   "id": "68bc390b",
   "metadata": {},
   "source": [
    "A grocery store sells a bag of ice for $1.25 and makes a 20% profit. If it sells 500 bags of ice, how much total profit does it make?"
   ]
  },
  {
   "cell_type": "markdown",
   "id": "6d35aa0d",
   "metadata": {},
   "source": [
    "one bag price = $1.25,\n",
    "profit from one bag = 20%, (20/100=0.2),\n",
    "for 500 bags then, 500*into(.2*into1.25)"
   ]
  },
  {
   "cell_type": "code",
   "execution_count": 12,
   "id": "65d9a5e7",
   "metadata": {},
   "outputs": [
    {
     "data": {
      "text/plain": [
       "125.0"
      ]
     },
     "execution_count": 12,
     "metadata": {},
     "output_type": "execute_result"
    }
   ],
   "source": [
    "500 * (.2 * 1.25)"
   ]
  },
  {
   "cell_type": "markdown",
   "id": "195cb8e1",
   "metadata": {},
   "source": [
    "## Solving multi-step problems using variables"
   ]
  },
  {
   "cell_type": "code",
   "execution_count": 13,
   "id": "e1bcde14",
   "metadata": {},
   "outputs": [],
   "source": [
    "cost_of_ice_bag = 1.25"
   ]
  },
  {
   "cell_type": "code",
   "execution_count": 14,
   "id": "d973910e",
   "metadata": {},
   "outputs": [],
   "source": [
    "profit_margin = .2"
   ]
  },
  {
   "cell_type": "code",
   "execution_count": 15,
   "id": "f8c04c58",
   "metadata": {},
   "outputs": [],
   "source": [
    "number_of_bags = 500"
   ]
  },
  {
   "cell_type": "code",
   "execution_count": 16,
   "id": "1e4a3ae6",
   "metadata": {},
   "outputs": [
    {
     "data": {
      "text/plain": [
       "0.2"
      ]
     },
     "execution_count": 16,
     "metadata": {},
     "output_type": "execute_result"
    }
   ],
   "source": [
    "profit_margin"
   ]
  },
  {
   "cell_type": "code",
   "execution_count": 17,
   "id": "7990fb63",
   "metadata": {},
   "outputs": [],
   "source": [
    "profit_per_bags = cost_of_ice_bag * profit_margin"
   ]
  },
  {
   "cell_type": "code",
   "execution_count": 18,
   "id": "19aa1033",
   "metadata": {},
   "outputs": [
    {
     "data": {
      "text/plain": [
       "0.25"
      ]
     },
     "execution_count": 18,
     "metadata": {},
     "output_type": "execute_result"
    }
   ],
   "source": [
    "profit_per_bags"
   ]
  },
  {
   "cell_type": "code",
   "execution_count": 19,
   "id": "c60e9158",
   "metadata": {},
   "outputs": [],
   "source": [
    "total_profit = number_of_bags * profit_per_bags"
   ]
  },
  {
   "cell_type": "code",
   "execution_count": 20,
   "id": "4f8aa12c",
   "metadata": {},
   "outputs": [
    {
     "data": {
      "text/plain": [
       "125.0"
      ]
     },
     "execution_count": 20,
     "metadata": {},
     "output_type": "execute_result"
    }
   ],
   "source": [
    "total_profit"
   ]
  },
  {
   "cell_type": "markdown",
   "id": "b40a0e09",
   "metadata": {},
   "source": [
    "### On the above problem, information is stored in variables. You can think of variables as containers for storing data. The data stored within a variable is called its value."
   ]
  },
  {
   "cell_type": "code",
   "execution_count": 21,
   "id": "bbdaa299",
   "metadata": {},
   "outputs": [
    {
     "name": "stdout",
     "output_type": "stream",
     "text": [
      " The grocery store makes a total profit of $ 125.0\n"
     ]
    }
   ],
   "source": [
    "print (\" The grocery store makes a total profit of $\", total_profit)"
   ]
  },
  {
   "cell_type": "markdown",
   "id": "415d804e",
   "metadata": {},
   "source": [
    "## Evaluating conditions using Python "
   ]
  },
  {
   "cell_type": "code",
   "execution_count": 27,
   "id": "3015c850",
   "metadata": {},
   "outputs": [],
   "source": [
    "my_favourite_number = 1\n",
    "my_least_favourite_number = 5\n",
    "a_neural_number = 3"
   ]
  },
  {
   "cell_type": "code",
   "execution_count": 28,
   "id": "63e0fe59",
   "metadata": {},
   "outputs": [
    {
     "data": {
      "text/plain": [
       "True"
      ]
     },
     "execution_count": 28,
     "metadata": {},
     "output_type": "execute_result"
    }
   ],
   "source": [
    "# Equality check\n",
    "my_favourite_number == 1"
   ]
  },
  {
   "cell_type": "code",
   "execution_count": 29,
   "id": "e9a28c2a",
   "metadata": {},
   "outputs": [
    {
     "data": {
      "text/plain": [
       "False"
      ]
     },
     "execution_count": 29,
     "metadata": {},
     "output_type": "execute_result"
    }
   ],
   "source": [
    "my_favourite_number == my_least_favourite_number"
   ]
  },
  {
   "cell_type": "code",
   "execution_count": 30,
   "id": "2dcf0ecd",
   "metadata": {},
   "outputs": [
    {
     "data": {
      "text/plain": [
       "False"
      ]
     },
     "execution_count": 30,
     "metadata": {},
     "output_type": "execute_result"
    }
   ],
   "source": [
    "my_favourite_number == 10"
   ]
  },
  {
   "cell_type": "code",
   "execution_count": 32,
   "id": "d855a37b",
   "metadata": {},
   "outputs": [
    {
     "data": {
      "text/plain": [
       "True"
      ]
     },
     "execution_count": 32,
     "metadata": {},
     "output_type": "execute_result"
    }
   ],
   "source": [
    "# Not Equal Check - True\n",
    "my_favourite_number != a_neural_number "
   ]
  },
  {
   "cell_type": "code",
   "execution_count": 33,
   "id": "8e0cef85",
   "metadata": {},
   "outputs": [
    {
     "data": {
      "text/plain": [
       "True"
      ]
     },
     "execution_count": 33,
     "metadata": {},
     "output_type": "execute_result"
    }
   ],
   "source": [
    "# Not Equal Check - False\n",
    "my_least_favourite_number != 10"
   ]
  },
  {
   "cell_type": "code",
   "execution_count": 34,
   "id": "cfea1bd8",
   "metadata": {},
   "outputs": [
    {
     "data": {
      "text/plain": [
       "True"
      ]
     },
     "execution_count": 34,
     "metadata": {},
     "output_type": "execute_result"
    }
   ],
   "source": [
    "my_least_favourite_number > a_neural_number"
   ]
  },
  {
   "cell_type": "code",
   "execution_count": 35,
   "id": "bd68dec1",
   "metadata": {},
   "outputs": [
    {
     "data": {
      "text/plain": [
       "False"
      ]
     },
     "execution_count": 35,
     "metadata": {},
     "output_type": "execute_result"
    }
   ],
   "source": [
    "my_favourite_number>my_least_favourite_number"
   ]
  },
  {
   "cell_type": "code",
   "execution_count": 36,
   "id": "8dd8bace",
   "metadata": {},
   "outputs": [
    {
     "data": {
      "text/plain": [
       "False"
      ]
     },
     "execution_count": 36,
     "metadata": {},
     "output_type": "execute_result"
    }
   ],
   "source": [
    "my_favourite_number > 10"
   ]
  },
  {
   "cell_type": "code",
   "execution_count": 37,
   "id": "aaa39531",
   "metadata": {},
   "outputs": [
    {
     "data": {
      "text/plain": [
       "False"
      ]
     },
     "execution_count": 37,
     "metadata": {},
     "output_type": "execute_result"
    }
   ],
   "source": [
    "my_least_favourite_number < my_favourite_number"
   ]
  },
  {
   "cell_type": "code",
   "execution_count": 38,
   "id": "e712359a",
   "metadata": {},
   "outputs": [
    {
     "name": "stdout",
     "output_type": "stream",
     "text": [
      " is_ice_bag_expensive ? False\n"
     ]
    }
   ],
   "source": [
    "cost_of_ice_bag = 1.25\n",
    "is_ice_bag_expensive = cost_of_ice_bag >= 10\n",
    "print(\" is_ice_bag_expensive ?\", is_ice_bag_expensive)"
   ]
  },
  {
   "cell_type": "code",
   "execution_count": 39,
   "id": "6e733b75",
   "metadata": {},
   "outputs": [
    {
     "data": {
      "text/plain": [
       "False"
      ]
     },
     "execution_count": 39,
     "metadata": {},
     "output_type": "execute_result"
    }
   ],
   "source": [
    "a_neural_number != 3"
   ]
  },
  {
   "cell_type": "code",
   "execution_count": 40,
   "id": "53fe1577",
   "metadata": {},
   "outputs": [],
   "source": [
    "my_favourite_number=1"
   ]
  },
  {
   "cell_type": "code",
   "execution_count": 41,
   "id": "4ac5ea32",
   "metadata": {},
   "outputs": [
    {
     "data": {
      "text/plain": [
       "True"
      ]
     },
     "execution_count": 41,
     "metadata": {},
     "output_type": "execute_result"
    }
   ],
   "source": [
    "my_favourite_number >0 and my_favourite_number <=3"
   ]
  },
  {
   "cell_type": "code",
   "execution_count": 42,
   "id": "7590df5e",
   "metadata": {},
   "outputs": [
    {
     "data": {
      "text/plain": [
       "False"
      ]
     },
     "execution_count": 42,
     "metadata": {},
     "output_type": "execute_result"
    }
   ],
   "source": [
    "my_favourite_number < 0 and my_favourite_number <=3"
   ]
  },
  {
   "cell_type": "code",
   "execution_count": 43,
   "id": "667923b1",
   "metadata": {},
   "outputs": [
    {
     "data": {
      "text/plain": [
       "False"
      ]
     },
     "execution_count": 43,
     "metadata": {},
     "output_type": "execute_result"
    }
   ],
   "source": [
    "my_favourite_number > 0 and my_favourite_number >=3"
   ]
  },
  {
   "cell_type": "code",
   "execution_count": 50,
   "id": "96de367c",
   "metadata": {},
   "outputs": [
    {
     "data": {
      "text/plain": [
       "True"
      ]
     },
     "execution_count": 50,
     "metadata": {},
     "output_type": "execute_result"
    }
   ],
   "source": [
    "# Greater or equal to check -True \n",
    "my_favourite_number >= 1"
   ]
  },
  {
   "cell_type": "code",
   "execution_count": 51,
   "id": "6a61720b",
   "metadata": {},
   "outputs": [
    {
     "data": {
      "text/plain": [
       "False"
      ]
     },
     "execution_count": 51,
     "metadata": {},
     "output_type": "execute_result"
    }
   ],
   "source": [
    "# Greater or equal to check - False\n",
    "my_favourite_number >= 3"
   ]
  },
  {
   "cell_type": "markdown",
   "id": "0541a1e9",
   "metadata": {},
   "source": [
    "## Combining conditions with logical operators"
   ]
  },
  {
   "cell_type": "code",
   "execution_count": 52,
   "id": "65bc5fc7",
   "metadata": {},
   "outputs": [
    {
     "data": {
      "text/plain": [
       "1"
      ]
     },
     "execution_count": 52,
     "metadata": {},
     "output_type": "execute_result"
    }
   ],
   "source": [
    "my_favourite_number"
   ]
  },
  {
   "cell_type": "code",
   "execution_count": 53,
   "id": "94a8959a",
   "metadata": {},
   "outputs": [
    {
     "data": {
      "text/plain": [
       "True"
      ]
     },
     "execution_count": 53,
     "metadata": {},
     "output_type": "execute_result"
    }
   ],
   "source": [
    "my_favourite_number > 0 and my_favourite_number <= 3"
   ]
  },
  {
   "cell_type": "code",
   "execution_count": 54,
   "id": "3135eae8",
   "metadata": {},
   "outputs": [
    {
     "data": {
      "text/plain": [
       "False"
      ]
     },
     "execution_count": 54,
     "metadata": {},
     "output_type": "execute_result"
    }
   ],
   "source": [
    "my_favourite_number < 0 and my_favourite_number <= 3"
   ]
  },
  {
   "cell_type": "code",
   "execution_count": 55,
   "id": "7c52c026",
   "metadata": {},
   "outputs": [],
   "source": [
    "a_neural_number = 3"
   ]
  },
  {
   "cell_type": "code",
   "execution_count": 60,
   "id": "7f469317",
   "metadata": {},
   "outputs": [
    {
     "data": {
      "text/plain": [
       "True"
      ]
     },
     "execution_count": 60,
     "metadata": {},
     "output_type": "execute_result"
    }
   ],
   "source": [
    "a_neural_number == 3 or my_favorite_number < 0 # here as you can see the first parameter is true but the second parameter is false"
   ]
  },
  {
   "cell_type": "code",
   "execution_count": 61,
   "id": "1e932f11",
   "metadata": {},
   "outputs": [
    {
     "data": {
      "text/plain": [
       "False"
      ]
     },
     "execution_count": 61,
     "metadata": {},
     "output_type": "execute_result"
    }
   ],
   "source": [
    "a_neural_number != 3 or my_favourite_number < 0 # here bothe the parameter are false"
   ]
  },
  {
   "cell_type": "markdown",
   "id": "4239b6a1",
   "metadata": {},
   "source": [
    "A travel company wants to fly a plane to the Bahamas. Flying the plane costs 5000 dollars. So far, 29 people have signed up for the trip. If the company charges 200 dollars per ticket, what is the profit made by the company? Create variables for each numeric quantity and use appropriate arithmetic operations."
   ]
  },
  {
   "cell_type": "code",
   "execution_count": 44,
   "id": "1f8706a7",
   "metadata": {},
   "outputs": [],
   "source": [
    "total_cost= 5000\n",
    "people_signed_up= 29\n",
    "cost_per_ticket=200\n"
   ]
  },
  {
   "cell_type": "code",
   "execution_count": 45,
   "id": "df4af7fb",
   "metadata": {},
   "outputs": [],
   "source": [
    "amount_recieved = people_signed_up*cost_per_ticket"
   ]
  },
  {
   "cell_type": "code",
   "execution_count": 46,
   "id": "f81ba654",
   "metadata": {},
   "outputs": [],
   "source": [
    "profit= amount_recieved - total_cost"
   ]
  },
  {
   "cell_type": "code",
   "execution_count": 47,
   "id": "18cc7b00",
   "metadata": {},
   "outputs": [
    {
     "data": {
      "text/plain": [
       "800"
      ]
     },
     "execution_count": 47,
     "metadata": {},
     "output_type": "execute_result"
    }
   ],
   "source": [
    "profit"
   ]
  },
  {
   "cell_type": "code",
   "execution_count": null,
   "id": "85533205",
   "metadata": {},
   "outputs": [],
   "source": []
  }
 ],
 "metadata": {
  "kernelspec": {
   "display_name": "Python 3",
   "language": "python",
   "name": "python3"
  },
  "language_info": {
   "codemirror_mode": {
    "name": "ipython",
    "version": 3
   },
   "file_extension": ".py",
   "mimetype": "text/x-python",
   "name": "python",
   "nbconvert_exporter": "python",
   "pygments_lexer": "ipython3",
   "version": "3.8.8"
  }
 },
 "nbformat": 4,
 "nbformat_minor": 5
}
