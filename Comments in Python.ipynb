{
 "cells": [
  {
   "cell_type": "code",
   "execution_count": 2,
   "id": "74d76e37",
   "metadata": {},
   "outputs": [
    {
     "name": "stdout",
     "output_type": "stream",
     "text": [
      "Hi\n"
     ]
    }
   ],
   "source": [
    "#this is a comment\n",
    "print(\"Hi\")"
   ]
  },
  {
   "cell_type": "code",
   "execution_count": 3,
   "id": "af4f2023",
   "metadata": {},
   "outputs": [
    {
     "data": {
      "text/plain": [
       "'# How are you'"
      ]
     },
     "execution_count": 3,
     "metadata": {},
     "output_type": "execute_result"
    }
   ],
   "source": [
    "\"# How are you\""
   ]
  },
  {
   "cell_type": "code",
   "execution_count": 4,
   "id": "697fe8c8",
   "metadata": {},
   "outputs": [],
   "source": [
    "# as shown in the 2nd cell we can't enter comments in a string"
   ]
  },
  {
   "cell_type": "markdown",
   "id": "26e1d026",
   "metadata": {},
   "source": [
    "# Single Line Comment"
   ]
  },
  {
   "cell_type": "code",
   "execution_count": 5,
   "id": "13d87283",
   "metadata": {},
   "outputs": [
    {
     "data": {
      "text/plain": [
       "4"
      ]
     },
     "execution_count": 5,
     "metadata": {},
     "output_type": "execute_result"
    }
   ],
   "source": [
    "#individual single line comment\n",
    "a=2\n",
    "b=2\n",
    "a+b    #inline comment"
   ]
  },
  {
   "cell_type": "markdown",
   "id": "a89e99d6",
   "metadata": {},
   "source": [
    "# Multi Line Comment"
   ]
  },
  {
   "cell_type": "code",
   "execution_count": 2,
   "id": "f6708800",
   "metadata": {},
   "outputs": [
    {
     "name": "stdout",
     "output_type": "stream",
     "text": [
      "20\n"
     ]
    }
   ],
   "source": [
    "#comments in python\n",
    "#multi-line comment\n",
    "#program to multiply 2 integers\n",
    "a=5\n",
    "b=4\n",
    "c=a*b\n",
    "print(c)"
   ]
  },
  {
   "cell_type": "code",
   "execution_count": 3,
   "id": "dd939d0a",
   "metadata": {},
   "outputs": [],
   "source": [
    "#comments in python\n",
    "#multi-line comment\n",
    "#shortcut method\n",
    "#shortcut method is by presseing ctrl key+left click, by doing the shortcut method it helps us to insert hash character where ever we want in a multi line comment  "
   ]
  },
  {
   "cell_type": "markdown",
   "id": "13fbef47",
   "metadata": {},
   "source": [
    "# Docstring Comments "
   ]
  },
  {
   "cell_type": "code",
   "execution_count": 4,
   "id": "5ebf4844",
   "metadata": {},
   "outputs": [
    {
     "data": {
      "text/plain": [
       "'\\ndocstring are not ommitted by interpreters \\ncomments are omitted \\n'"
      ]
     },
     "execution_count": 4,
     "metadata": {},
     "output_type": "execute_result"
    }
   ],
   "source": [
    "\"\"\"\n",
    "docstring are not ommitted by interpreters \n",
    "comments are omitted \n",
    "\"\"\"\n"
   ]
  },
  {
   "cell_type": "code",
   "execution_count": 5,
   "id": "717a078b",
   "metadata": {},
   "outputs": [],
   "source": [
    "#when we excute the comments it does not return the comment or anything. so, the interpreter does not ommit docstrings "
   ]
  },
  {
   "cell_type": "code",
   "execution_count": 6,
   "id": "ab858ec6",
   "metadata": {},
   "outputs": [],
   "source": [
    "# Docstrings are effeciently used to describe a class, fuction or something else"
   ]
  },
  {
   "cell_type": "code",
   "execution_count": 7,
   "id": "d641ca15",
   "metadata": {},
   "outputs": [
    {
     "name": "stdout",
     "output_type": "stream",
     "text": [
      "15\n"
     ]
    }
   ],
   "source": [
    "\"\"\"\n",
    "docstring are not ommitted by interpreters \n",
    "comments are omitted \n",
    "\"\"\"\n",
    "a=5\n",
    "b=10\n",
    "c=a+b\n",
    "print(c)"
   ]
  },
  {
   "cell_type": "code",
   "execution_count": 10,
   "id": "0991fbff",
   "metadata": {},
   "outputs": [
    {
     "name": "stdout",
     "output_type": "stream",
     "text": [
      "15\n"
     ]
    },
    {
     "data": {
      "text/plain": [
       "'\\ndocstring are not ommitted by interpreters \\ncomments are omitted \\n'"
      ]
     },
     "execution_count": 10,
     "metadata": {},
     "output_type": "execute_result"
    }
   ],
   "source": [
    "#enterimg a docstring after some code\n",
    "a=5\n",
    "b=10\n",
    "print(a+b)\n",
    "\"\"\"\n",
    "docstring are not ommitted by interpreters \n",
    "comments are omitted \n",
    "\"\"\"\n",
    "\n",
    "\n"
   ]
  },
  {
   "cell_type": "code",
   "execution_count": null,
   "id": "764e1767",
   "metadata": {},
   "outputs": [],
   "source": []
  }
 ],
 "metadata": {
  "kernelspec": {
   "display_name": "Python 3",
   "language": "python",
   "name": "python3"
  },
  "language_info": {
   "codemirror_mode": {
    "name": "ipython",
    "version": 3
   },
   "file_extension": ".py",
   "mimetype": "text/x-python",
   "name": "python",
   "nbconvert_exporter": "python",
   "pygments_lexer": "ipython3",
   "version": "3.8.8"
  }
 },
 "nbformat": 4,
 "nbformat_minor": 5
}
